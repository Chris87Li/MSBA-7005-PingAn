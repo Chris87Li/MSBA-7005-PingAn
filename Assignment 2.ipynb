{
 "cells": [
  {
   "attachments": {},
   "cell_type": "markdown",
   "metadata": {},
   "source": [
    "# Assignment 2.1 MSBA7025"
   ]
  },
  {
   "cell_type": "markdown",
   "metadata": {},
   "source": [
    "## Background\n",
    "We want to test a new feature that provides a smoothier check-out process on Taobao. On average, 15% of the Taobao users start a check-out process and 4% of the Taobao users purchase products on Taobao per week. If this new feature can increase the purchase rate by at least 10% (lift), we will launch it."
   ]
  },
  {
   "cell_type": "markdown",
   "metadata": {},
   "source": [
    "## Question 1\n",
    "What randomization unit will you use in this experiment? What are the variants and OEC? Assume that we want to achieve 75% statistical power and 5% significance level, and the Treatment and Control groups have the same size. What sample size for each variant will you need for this experiment? Please use the formula to calculate sample size."
   ]
  },
  {
   "cell_type": "markdown",
   "metadata": {},
   "source": [
    "## Question 2\n",
    "Assume that we need a more powerful test and the ratio of the sample sizes between the treatment and control groups is 1:3. If we need 80% statistical power, how large the sample size do we need for the experiment? How about 90% statitiscla power? Please give the answer to the questions and implement Python code to show the relationship between the sample size and statistical power. Please use the simulation approach."
   ]
  },
  {
   "cell_type": "markdown",
   "metadata": {},
   "source": [
    "## Question 3\n",
    "Please use the following two functions in Python to solve Question 2\n",
    "\n",
    "1. from statsmodels.stats.power import zt_ind_solve_power \n",
    "2. from statsmodels.stats.proportion import proportion_effectsize \n"
   ]
  },
  {
   "cell_type": "markdown",
   "metadata": {},
   "source": [
    "# Assignment 2.2 MSBA7025"
   ]
  },
  {
   "attachments": {},
   "cell_type": "markdown",
   "metadata": {},
   "source": [
    "## Use the ABetterChoice platform and answer the following questions "
   ]
  },
  {
   "cell_type": "markdown",
   "metadata": {},
   "source": [
    "Please sign up the ABetterChoice platform (abetterchoice.ai) with your hku emails. You'll find an artificial experiment named \"experiment_on_button_2\" in the project \"hku_experiments\"."
   ]
  },
  {
   "attachments": {},
   "cell_type": "markdown",
   "metadata": {},
   "source": [
    "## Question 1\n",
    "Explain the logic of selecting \"average_watching_time_for_test\" and \"d7_retention_rate_for_test\" as metrics for testing the effect of change in button"
   ]
  },
  {
   "attachments": {},
   "cell_type": "markdown",
   "metadata": {},
   "source": [
    "## Question 2\n",
    "The platform suggests that \"Data collection in progress\". However, if you had ended the experiment in the third day, what conclusion would you obtain regarding the primary metric? Does it necessarily imply that a better choice will be found (i.e. there is a statistically significant difference in the primary metric between treatment groups) at the end of the experiment?"
   ]
  },
  {
   "attachments": {},
   "cell_type": "markdown",
   "metadata": {},
   "source": [
    "## Question 3\n",
    "For the secondary metrics, what conclusion can you draw? Does it make sense to state that, at this point, there is improvement in at least one metric at the significance level 0.05? Why?"
   ]
  },
  {
   "cell_type": "markdown",
   "metadata": {},
   "source": []
  },
  {
   "cell_type": "markdown",
   "metadata": {},
   "source": [
    "## Submission Format\n",
    "Please submit your codes and analysis in an .ipynb file to Moodle and name the submission file as 7025_A2_[Your Name]"
   ]
  }
 ],
 "metadata": {
  "kernelspec": {
   "display_name": "Python 3",
   "language": "python",
   "name": "python3"
  },
  "language_info": {
   "codemirror_mode": {
    "name": "ipython",
    "version": 3
   },
   "file_extension": ".py",
   "mimetype": "text/x-python",
   "name": "python",
   "nbconvert_exporter": "python",
   "pygments_lexer": "ipython3",
   "version": "3.8.5"
  }
 },
 "nbformat": 4,
 "nbformat_minor": 4
}
